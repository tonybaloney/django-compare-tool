{
 "cells": [
  {
   "cell_type": "code",
   "execution_count": 4,
   "metadata": {},
   "outputs": [
    {
     "name": "stderr",
     "output_type": "stream",
     "text": [
      "/var/folders/j4/zngd8xzn5bj14jfr2vyygwj40000gn/T/ipykernel_72969/2804320193.py:37: FutureWarning: The default value of numeric_only in DataFrame.quantile is deprecated. In a future version, it will default to False. Select only valid columns or specify the value of numeric_only to silence this warning.\n",
      "  qu = group.quantile(quantiles)\n",
      "/var/folders/j4/zngd8xzn5bj14jfr2vyygwj40000gn/T/ipykernel_72969/2804320193.py:37: FutureWarning: The default value of numeric_only in DataFrame.quantile is deprecated. In a future version, it will default to False. Select only valid columns or specify the value of numeric_only to silence this warning.\n",
      "  qu = group.quantile(quantiles)\n",
      "/var/folders/j4/zngd8xzn5bj14jfr2vyygwj40000gn/T/ipykernel_72969/2804320193.py:37: FutureWarning: The default value of numeric_only in DataFrame.quantile is deprecated. In a future version, it will default to False. Select only valid columns or specify the value of numeric_only to silence this warning.\n",
      "  qu = group.quantile(quantiles)\n",
      "/var/folders/j4/zngd8xzn5bj14jfr2vyygwj40000gn/T/ipykernel_72969/2804320193.py:37: FutureWarning: The default value of numeric_only in DataFrame.quantile is deprecated. In a future version, it will default to False. Select only valid columns or specify the value of numeric_only to silence this warning.\n",
      "  qu = group.quantile(quantiles)\n"
     ]
    }
   ],
   "source": [
    "import pandas as pd\n",
    "from bokeh.plotting import figure, output_file, show\n",
    "from bokeh.layouts import layout\n",
    "from bokeh.models import NumeralTickFormatter\n",
    "from collections import defaultdict\n",
    "import os.path\n",
    "\n",
    "# file to save the model\n",
    "output_file(\"results.html\")\n",
    "quantiles = [0.5, 0.66, 0.75, 0.8, 0.9, 0.95]\n",
    "stats = defaultdict(dict)\n",
    "\n",
    "def batched_double(iterable, n=2):\n",
    "    \"Batch data into lists of length n. The last batch may be shorter.\"\n",
    "    result = []\n",
    "    row = []\n",
    "    col = 0\n",
    "    for item in iterable:\n",
    "        row.append(item)\n",
    "        col += 1\n",
    "        if col >= n:\n",
    "            result.append(row)\n",
    "            col = 0\n",
    "            row = []\n",
    "    if row: # last row\n",
    "        result.append(row)\n",
    "    return result\n",
    "    \n",
    "\n",
    "for version in ['3.8', '3.9', '3.10', '3.11']:\n",
    "    df = pd.read_csv(os.path.join('results', f'results_{version}_fullstats.csv')).drop(['exception', 'start_time', 'response_length'], axis=1)\n",
    "    df.round({'response_time': 2})\n",
    "\n",
    "    groups = df.groupby(['request_type', 'name'])\n",
    "    \n",
    "    for name, group in groups:\n",
    "        qu = group.quantile(quantiles)\n",
    "        stats[' '.join(name)][version] = qu\n",
    "\n",
    "graphs = []\n",
    "\n",
    "for url, data in stats.items():\n",
    "    graph = figure(title = f\"Load Test for {url}\", x_axis_label = 'Quantile', y_axis_label = 'Response time (ms)')\n",
    "    colors = iter(['red', 'green', 'blue', 'purple', 'brown', 'orange'])\n",
    "    for version, data in data.items():\n",
    "        graph.line(quantiles, data['response_time'], legend_label=version, line_color=next(colors), line_width=2)\n",
    "        q50 = data['response_time'][0.5]\n",
    "    \n",
    "    graph.xaxis.formatter = NumeralTickFormatter(format='0 %')\n",
    "    \n",
    "    graphs.append(graph)\n",
    "\n",
    "show(layout(batched_double(graphs)))"
   ]
  }
 ],
 "metadata": {
  "kernelspec": {
   "display_name": ".venv-311",
   "language": "python",
   "name": "python3"
  },
  "language_info": {
   "codemirror_mode": {
    "name": "ipython",
    "version": 3
   },
   "file_extension": ".py",
   "mimetype": "text/x-python",
   "name": "python",
   "nbconvert_exporter": "python",
   "pygments_lexer": "ipython3",
   "version": "3.11.1 (v3.11.1:a7a450f84a, Dec  6 2022, 15:24:06) [Clang 13.0.0 (clang-1300.0.29.30)]"
  },
  "orig_nbformat": 4,
  "vscode": {
   "interpreter": {
    "hash": "9d375488deac3b7194000688ef955ba08661905774dca9a8aead0123795815ae"
   }
  }
 },
 "nbformat": 4,
 "nbformat_minor": 2
}
