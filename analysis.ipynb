{
 "cells": [
  {
   "cell_type": "code",
   "execution_count": 1,
   "metadata": {},
   "outputs": [],
   "source": [
    "import pandas as pd\n",
    "from bokeh.plotting import figure, output_file, show\n",
    "\n",
    "# file to save the model\n",
    "output_file(\"results.html\")\n",
    "\n",
    "# instantiating the figure object\n",
    "graph = figure(title = \"Django test app benchmark\")\n",
    "colors = iter(['red', 'green', 'blue', 'purple', 'brown', 'orange'])\n",
    "for version in ['3.8', '3.9', '3.10', '3.11']:\n",
    "    df = pd.read_csv(f'results_{version}_stats.csv')\n",
    "    aggregated = df[df.Name == 'Aggregated']\n",
    "    # the points to be plotted\n",
    "    x = [50,66,75,80,90,95]\n",
    "    y = [aggregated['50%'].mean(),\n",
    "            aggregated['66%'].mean(),\n",
    "            aggregated['75%'].mean(),\n",
    "            aggregated['80%'].mean(),\n",
    "            aggregated['90%'].mean(),\n",
    "            aggregated['95%'].mean(),]\n",
    "\n",
    "    # plotting the line graph\n",
    "    graph.line(x, y, legend_label=version, line_color=next(colors), line_width=2)\n",
    "graph.xaxis.axis_label = 'Distribution (Percentile)'\n",
    "graph.yaxis.axis_label = 'Time (ms)'\n",
    "# displaying the model\n",
    "show(graph)\n"
   ]
  }
 ],
 "metadata": {
  "kernelspec": {
   "display_name": ".venv-311",
   "language": "python",
   "name": "python3"
  },
  "language_info": {
   "codemirror_mode": {
    "name": "ipython",
    "version": 3
   },
   "file_extension": ".py",
   "mimetype": "text/x-python",
   "name": "python",
   "nbconvert_exporter": "python",
   "pygments_lexer": "ipython3",
   "version": "3.11.1"
  },
  "orig_nbformat": 4,
  "vscode": {
   "interpreter": {
    "hash": "9d375488deac3b7194000688ef955ba08661905774dca9a8aead0123795815ae"
   }
  }
 },
 "nbformat": 4,
 "nbformat_minor": 2
}
